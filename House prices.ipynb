{
 "cells": [
  {
   "cell_type": "markdown",
   "metadata": {},
   "source": [
    "# Data loading and processing"
   ]
  },
  {
   "cell_type": "code",
   "execution_count": 1,
   "metadata": {},
   "outputs": [],
   "source": [
    "import pandas as pd\n",
    "import numpy as np\n",
    "from sklearn.tree import DecisionTreeRegressor, export_graphviz\n",
    "from sklearn.model_selection import train_test_split, GridSearchCV\n",
    "from sklearn.ensemble import RandomForestRegressor, BaggingRegressor, GradientBoostingRegressor\n",
    "from sklearn.dummy import DummyRegressor\n",
    "from sklearn.linear_model import LinearRegression, Lasso, Ridge\n",
    "from sklearn.preprocessing import StandardScaler\n",
    "from sklearn.neighbors import KNeighborsRegressor\n",
    "\n",
    "%matplotlib inline"
   ]
  },
  {
   "cell_type": "code",
   "execution_count": 2,
   "metadata": {},
   "outputs": [],
   "source": [
    "#Loading train and test data (test set for competition will be called evaluate)\n",
    "data = pd.read_csv('train.csv', index_col = 'Id')\n",
    "evaluate = pd.read_csv('test.csv', index_col = 'Id')"
   ]
  },
  {
   "cell_type": "code",
   "execution_count": 3,
   "metadata": {},
   "outputs": [],
   "source": [
    "#appending both sets to be sure, that made changes whould be the same\n",
    "full = data.append(evaluate, ignore_index=False, sort = False)"
   ]
  },
  {
   "cell_type": "markdown",
   "metadata": {},
   "source": [
    "## Features engineering"
   ]
  },
  {
   "cell_type": "code",
   "execution_count": 4,
   "metadata": {},
   "outputs": [],
   "source": [
    "#creating three typeas of variables: qualitive (only for factorization), \n",
    "#ordinal (to change names so that bigger number is better) and quantitive (no need for change)\n",
    "qualitive = ['MSSubClass', 'MSZoning', 'BldgType', 'Heating',\n",
    "             'GarageType', 'GarageFinish', \n",
    "                 'SaleType', 'SaleCondition',\n",
    "                'Foundation', 'Fence']\n",
    "\n",
    "ordinal = ['Street', 'LotShape', 'Basement', 'AfterRemod', 'Utilities', 'LandSlope', 'KitchenQual', 'PavedDrive', \n",
    "                'CentralAir', 'PoolQC']\n",
    "    \n",
    "quantitive = ['LotArea', 'OverallQual', 'OverallCond', 'YearBuilt', 'GarageArea', \n",
    "             'MiscVal', 'OpenPorchSF', 'EnclosedPorch', '3SsnPorch', 'ScreenPorch', 'PoolArea', \n",
    "              'Pool_QC_Area', 'Garage_QC_Area', 'LotFrontage', 'GrLivArea', 'GarageCars', 'TotalBsmtSF', '1stFlrSF',\n",
    "             'FullBath', 'TotRmsAbvGrd']\n",
    "\n",
    "\n"
   ]
  },
  {
   "cell_type": "code",
   "execution_count": 5,
   "metadata": {},
   "outputs": [],
   "source": [
    "for i in qualitive:\n",
    "    full[i] = full[i].factorize()[0]"
   ]
  },
  {
   "cell_type": "code",
   "execution_count": 6,
   "metadata": {},
   "outputs": [],
   "source": [
    "full['Basement'] = full['BsmtQual'].notnull().map({True: 1, False: 0})"
   ]
  },
  {
   "cell_type": "code",
   "execution_count": 7,
   "metadata": {},
   "outputs": [],
   "source": [
    "full['AfterRemod'] = full['YearBuilt'].where(full['YearBuilt'] == full['YearRemodAdd']).isna().map({True: 1, False: 0})"
   ]
  },
  {
   "cell_type": "code",
   "execution_count": 8,
   "metadata": {},
   "outputs": [],
   "source": [
    "full['GarageArea'] = full['GarageArea'].fillna(0)"
   ]
  },
  {
   "cell_type": "code",
   "execution_count": 9,
   "metadata": {},
   "outputs": [],
   "source": [
    "full['KitchenQual'] = full['KitchenQual'].map({'Fa': 0,\n",
    "                    'TA': 1, \n",
    "                    'Gd': 2, \n",
    "                    'Ex': 3})\n",
    "full['KitchenQual'] = full['KitchenQual'].fillna(0)"
   ]
  },
  {
   "cell_type": "code",
   "execution_count": 10,
   "metadata": {},
   "outputs": [],
   "source": [
    "full['Street'] = full['Street'].map({'Grvl': 0,\n",
    "                    'Pave': 1})"
   ]
  },
  {
   "cell_type": "code",
   "execution_count": 11,
   "metadata": {},
   "outputs": [],
   "source": [
    "full['LotShape'] = full['LotShape'].map({'IR3': 0,\n",
    "                    'IR2': 1, \n",
    "                    'IR1': 2, \n",
    "                    'Reg': 3})"
   ]
  },
  {
   "cell_type": "code",
   "execution_count": 12,
   "metadata": {},
   "outputs": [],
   "source": [
    "full['Utilities'] = full['Utilities'].map({'AllPub': 1,\n",
    "                    'NoSeWa': 0})\n",
    "full['Utilities'] = full['Utilities'].fillna(0)"
   ]
  },
  {
   "cell_type": "code",
   "execution_count": 13,
   "metadata": {},
   "outputs": [],
   "source": [
    "full['LandSlope'] = full['LandSlope'].map({'Sev': 0,\n",
    "                    'Mod': 1, \n",
    "                    'Gtl': 2})"
   ]
  },
  {
   "cell_type": "code",
   "execution_count": 14,
   "metadata": {},
   "outputs": [],
   "source": [
    "full['PavedDrive'] = full['PavedDrive'].map({'N': 0,\n",
    "                    'P': 1, \n",
    "                    'Y': 2})"
   ]
  },
  {
   "cell_type": "code",
   "execution_count": 15,
   "metadata": {},
   "outputs": [],
   "source": [
    "full['CentralAir'] = full['CentralAir'].map({'N': 0,\n",
    "                    'Y': 1})"
   ]
  },
  {
   "cell_type": "code",
   "execution_count": 16,
   "metadata": {},
   "outputs": [],
   "source": [
    "full['PoolQC'] = full['PoolQC'].map({'Fa': 1,\n",
    "                    'TA': 2, \n",
    "                    'Gd': 3, \n",
    "                    'Ex': 4})\n",
    "full['PoolQC'] = full['PoolQC'].fillna(0)"
   ]
  },
  {
   "cell_type": "code",
   "execution_count": 17,
   "metadata": {},
   "outputs": [],
   "source": [
    "full['Pool_QC_Area'] = full['PoolQC'] * full['PoolArea']"
   ]
  },
  {
   "cell_type": "code",
   "execution_count": 18,
   "metadata": {},
   "outputs": [],
   "source": [
    "full['GarageQual'] = full['GarageQual'].map({'Po': 1, \n",
    "                    'Fa': 2,\n",
    "                    'TA': 3, \n",
    "                    'Gd': 4, \n",
    "                    'Ex': 5})\n",
    "full['GarageQual'] = full['GarageQual'].fillna(0)"
   ]
  },
  {
   "cell_type": "code",
   "execution_count": 19,
   "metadata": {},
   "outputs": [],
   "source": [
    "full['Garage_QC_Area'] = full['GarageQual'] * full['GarageArea']"
   ]
  },
  {
   "cell_type": "code",
   "execution_count": 20,
   "metadata": {},
   "outputs": [],
   "source": [
    " full['LotFrontage'] = full['LotFrontage'].fillna(0)"
   ]
  },
  {
   "cell_type": "code",
   "execution_count": 21,
   "metadata": {},
   "outputs": [],
   "source": [
    " full['GarageCars'] = full['GarageCars'].fillna(0)"
   ]
  },
  {
   "cell_type": "code",
   "execution_count": 22,
   "metadata": {},
   "outputs": [],
   "source": [
    " full['FullBath'] = full['FullBath'].fillna(0)"
   ]
  },
  {
   "cell_type": "code",
   "execution_count": 23,
   "metadata": {},
   "outputs": [],
   "source": [
    " full['TotRmsAbvGrd'] = full['TotRmsAbvGrd'].fillna(0)"
   ]
  },
  {
   "cell_type": "code",
   "execution_count": 24,
   "metadata": {},
   "outputs": [],
   "source": [
    " full['1stFlrSF'] = full['1stFlrSF'].fillna(0)"
   ]
  },
  {
   "cell_type": "code",
   "execution_count": 25,
   "metadata": {},
   "outputs": [],
   "source": [
    " full['TotalBsmtSF'] = full['TotalBsmtSF'].fillna(0)"
   ]
  },
  {
   "cell_type": "markdown",
   "metadata": {},
   "source": [
    "## Sets"
   ]
  },
  {
   "cell_type": "code",
   "execution_count": 26,
   "metadata": {},
   "outputs": [],
   "source": [
    "#joining all needen columns in one DataFrame\n",
    "full = full[qualitive].join(full[quantitive]).join(full[ordinal]).join(full['SalePrice'])"
   ]
  },
  {
   "cell_type": "code",
   "execution_count": 27,
   "metadata": {},
   "outputs": [],
   "source": [
    "#division of trainging and evaluate sets\n",
    "data = full[full['SalePrice'].isna() == False]\n",
    "evaluate = full[full['SalePrice'].isna() == True].drop(labels = 'SalePrice', axis = 1)"
   ]
  },
  {
   "cell_type": "code",
   "execution_count": 28,
   "metadata": {},
   "outputs": [],
   "source": [
    "#removing outliers and leverage values\n",
    "mean = data.describe().loc['mean', 'SalePrice']\n",
    "std = data.describe().loc['std', 'SalePrice']\n",
    "data = data[data['SalePrice'] < (mean + 5*std)]"
   ]
  },
  {
   "cell_type": "code",
   "execution_count": 29,
   "metadata": {},
   "outputs": [],
   "source": [
    "#creating X and y sets\n",
    "y = data['SalePrice']\n",
    "X = data.drop(labels = 'SalePrice', axis = 1)"
   ]
  },
  {
   "cell_type": "code",
   "execution_count": 30,
   "metadata": {},
   "outputs": [],
   "source": [
    "#division of sets for training and scoring\n",
    "X_train, X_test, y_train, y_test = train_test_split(X, y, test_size = 0.2, random_state = 1)"
   ]
  },
  {
   "cell_type": "markdown",
   "metadata": {},
   "source": [
    "# Decision Tree with GridSearchCV"
   ]
  },
  {
   "cell_type": "code",
   "execution_count": 31,
   "metadata": {},
   "outputs": [
    {
     "data": {
      "text/plain": [
       "GridSearchCV(cv=3, error_score='raise-deprecating',\n",
       "       estimator=DecisionTreeRegressor(criterion='mse', max_depth=None, max_features=None,\n",
       "           max_leaf_nodes=None, min_impurity_decrease=0.0,\n",
       "           min_impurity_split=None, min_samples_leaf=1,\n",
       "           min_samples_split=2, min_weight_fraction_leaf=0.0,\n",
       "           presort=False, random_state=1, splitter='best'),\n",
       "       fit_params=None, iid='warn', n_jobs=4,\n",
       "       param_grid={'max_depth': range(1, 5), 'min_samples_leaf': range(1, 10), 'min_samples_split': range(2, 10)},\n",
       "       pre_dispatch='2*n_jobs', refit=True, return_train_score='warn',\n",
       "       scoring=None, verbose=0)"
      ]
     },
     "execution_count": 31,
     "metadata": {},
     "output_type": "execute_result"
    }
   ],
   "source": [
    "#using GridSearchCV module to find best hiperparameters for Decision Tree with usage of Cross Validation\n",
    "tree_estimator = DecisionTreeRegressor(random_state = 1)\n",
    "tree_param_grid = {'max_depth': range(1, 5),\n",
    "              'min_samples_leaf': range (1, 10),\n",
    "             'min_samples_split': range (2, 10)}\n",
    "grid_tree = GridSearchCV(estimator=tree_estimator, param_grid=tree_param_grid, cv=3, n_jobs=4)\n",
    "grid_tree.fit(X=X_train, y=y_train)"
   ]
  },
  {
   "cell_type": "code",
   "execution_count": 32,
   "metadata": {},
   "outputs": [
    {
     "data": {
      "text/plain": [
       "max_depth            4\n",
       "min_samples_leaf     6\n",
       "min_samples_split    2\n",
       "dtype: int64"
      ]
     },
     "execution_count": 32,
     "metadata": {},
     "output_type": "execute_result"
    }
   ],
   "source": [
    "#checking the best hiperparameters\n",
    "best_params = pd.Series(grid_tree.best_params_)\n",
    "best_params"
   ]
  },
  {
   "cell_type": "code",
   "execution_count": 33,
   "metadata": {},
   "outputs": [
    {
     "data": {
      "text/plain": [
       "0.7572046020353111"
      ]
     },
     "execution_count": 33,
     "metadata": {},
     "output_type": "execute_result"
    }
   ],
   "source": [
    "#model scoring\n",
    "grid_tree_score = grid_tree.score(X=X_test, y=y_test)\n",
    "grid_tree_score"
   ]
  },
  {
   "cell_type": "markdown",
   "metadata": {},
   "source": [
    "# Bagging"
   ]
  },
  {
   "cell_type": "code",
   "execution_count": 34,
   "metadata": {},
   "outputs": [
    {
     "data": {
      "text/plain": [
       "BaggingRegressor(base_estimator=None, bootstrap=True,\n",
       "         bootstrap_features=False, max_features=1.0, max_samples=1.0,\n",
       "         n_estimators=200, n_jobs=4, oob_score=False, random_state=1,\n",
       "         verbose=0, warm_start=False)"
      ]
     },
     "execution_count": 34,
     "metadata": {},
     "output_type": "execute_result"
    }
   ],
   "source": [
    "#Training Decistion Tree with Bagging\n",
    "bag = BaggingRegressor(n_estimators=200, n_jobs=4, random_state=1)\n",
    "bag.fit(X=X_train, y=y_train)"
   ]
  },
  {
   "cell_type": "code",
   "execution_count": 35,
   "metadata": {},
   "outputs": [
    {
     "data": {
      "text/plain": [
       "0.8775642367580626"
      ]
     },
     "execution_count": 35,
     "metadata": {},
     "output_type": "execute_result"
    }
   ],
   "source": [
    "bag_score = bag.score(X_test, y_test)\n",
    "bag_score"
   ]
  },
  {
   "cell_type": "markdown",
   "metadata": {},
   "source": [
    "# Bosting with GridSearchCV"
   ]
  },
  {
   "cell_type": "code",
   "execution_count": 36,
   "metadata": {},
   "outputs": [],
   "source": [
    "#Using GridSearch to find the best hiperparameters fot GradientBoostRegressor\n",
    "boost_param_grid = {'n_estimators': range(100, 500, 100),\n",
    "                   'learning_rate': np.arange(0.01, 0.1, 0.02)}\n",
    "boost_estimator = GradientBoostingRegressor(random_state=1)\n",
    "boost_grid = GridSearchCV(param_grid=boost_param_grid, estimator = boost_estimator, cv=4, n_jobs=4)"
   ]
  },
  {
   "cell_type": "code",
   "execution_count": 37,
   "metadata": {},
   "outputs": [
    {
     "data": {
      "text/plain": [
       "GridSearchCV(cv=4, error_score='raise-deprecating',\n",
       "       estimator=GradientBoostingRegressor(alpha=0.9, criterion='friedman_mse', init=None,\n",
       "             learning_rate=0.1, loss='ls', max_depth=3, max_features=None,\n",
       "             max_leaf_nodes=None, min_impurity_decrease=0.0,\n",
       "             min_impurity_split=None, min_samples_leaf=1,\n",
       "             min_sampl...ate=1, subsample=1.0, tol=0.0001,\n",
       "             validation_fraction=0.1, verbose=0, warm_start=False),\n",
       "       fit_params=None, iid='warn', n_jobs=4,\n",
       "       param_grid={'n_estimators': range(100, 500, 100), 'learning_rate': array([0.01, 0.03, 0.05, 0.07, 0.09])},\n",
       "       pre_dispatch='2*n_jobs', refit=True, return_train_score='warn',\n",
       "       scoring=None, verbose=0)"
      ]
     },
     "execution_count": 37,
     "metadata": {},
     "output_type": "execute_result"
    }
   ],
   "source": [
    "#Model training\n",
    "boost_grid.fit(X=X_train, y=y_train)"
   ]
  },
  {
   "cell_type": "code",
   "execution_count": 38,
   "metadata": {},
   "outputs": [
    {
     "data": {
      "text/plain": [
       "0.8920313596945827"
      ]
     },
     "execution_count": 38,
     "metadata": {},
     "output_type": "execute_result"
    }
   ],
   "source": [
    "#check of score\n",
    "boost_grid_score = boost_grid.score(X_test, y_test)\n",
    "boost_grid_score"
   ]
  },
  {
   "cell_type": "code",
   "execution_count": 39,
   "metadata": {},
   "outputs": [
    {
     "data": {
      "text/plain": [
       "learning_rate      0.05\n",
       "n_estimators     300.00\n",
       "dtype: float64"
      ]
     },
     "execution_count": 39,
     "metadata": {},
     "output_type": "execute_result"
    }
   ],
   "source": [
    "#check of best hiperparameters\n",
    "pd.Series(boost_grid.best_params_)"
   ]
  },
  {
   "cell_type": "markdown",
   "metadata": {},
   "source": [
    "# Boosting"
   ]
  },
  {
   "cell_type": "code",
   "execution_count": 40,
   "metadata": {},
   "outputs": [
    {
     "data": {
      "text/plain": [
       "GradientBoostingRegressor(alpha=0.9, criterion='friedman_mse', init=None,\n",
       "             learning_rate=0.05, loss='ls', max_depth=3, max_features=None,\n",
       "             max_leaf_nodes=None, min_impurity_decrease=0.0,\n",
       "             min_impurity_split=None, min_samples_leaf=1,\n",
       "             min_samples_split=2, min_weight_fraction_leaf=0.0,\n",
       "             n_estimators=300, n_iter_no_change=None, presort='auto',\n",
       "             random_state=1, subsample=1.0, tol=0.0001,\n",
       "             validation_fraction=0.1, verbose=0, warm_start=False)"
      ]
     },
     "execution_count": 40,
     "metadata": {},
     "output_type": "execute_result"
    }
   ],
   "source": [
    "#Training Decistion Tree with Boosting\n",
    "boost = GradientBoostingRegressor(n_estimators=300, learning_rate=0.05, random_state=1)\n",
    "boost.fit(X_train, y_train)"
   ]
  },
  {
   "cell_type": "code",
   "execution_count": 41,
   "metadata": {},
   "outputs": [
    {
     "data": {
      "text/plain": [
       "0.8923051258776783"
      ]
     },
     "execution_count": 41,
     "metadata": {},
     "output_type": "execute_result"
    }
   ],
   "source": [
    "boost_score = boost.score(X_test, y_test)\n",
    "boost_score"
   ]
  },
  {
   "cell_type": "markdown",
   "metadata": {},
   "source": [
    "# Random forest"
   ]
  },
  {
   "cell_type": "code",
   "execution_count": 42,
   "metadata": {},
   "outputs": [
    {
     "data": {
      "text/plain": [
       "RandomForestRegressor(bootstrap=True, criterion='mse', max_depth=4,\n",
       "           max_features=6, max_leaf_nodes=None, min_impurity_decrease=0.0,\n",
       "           min_impurity_split=None, min_samples_leaf=6,\n",
       "           min_samples_split=2, min_weight_fraction_leaf=0.0,\n",
       "           n_estimators=100, n_jobs=4, oob_score=False, random_state=1,\n",
       "           verbose=0, warm_start=False)"
      ]
     },
     "execution_count": 42,
     "metadata": {},
     "output_type": "execute_result"
    }
   ],
   "source": [
    "#Random Forest training using the best hiperparameters\n",
    "sqrt = int(np.sqrt(len(X_train.columns)))\n",
    "forest = RandomForestRegressor(max_depth=best_params['max_depth'],\n",
    "                              min_samples_leaf = best_params['min_samples_leaf'],\n",
    "                              min_samples_split = best_params['min_samples_split'], n_estimators=100, random_state = 1,\n",
    "                              bootstrap=True, max_features=sqrt, n_jobs=4)\n",
    "forest.fit(X=X_train, y=y_train)"
   ]
  },
  {
   "cell_type": "code",
   "execution_count": 43,
   "metadata": {},
   "outputs": [
    {
     "data": {
      "text/plain": [
       "0.8064227690081869"
      ]
     },
     "execution_count": 43,
     "metadata": {},
     "output_type": "execute_result"
    }
   ],
   "source": [
    "forest_score = forest.score(X=X_test, y=y_test)\n",
    "forest_score"
   ]
  },
  {
   "cell_type": "code",
   "execution_count": 44,
   "metadata": {},
   "outputs": [
    {
     "data": {
      "text/plain": [
       "OverallQual    0.160376\n",
       "GrLivArea      0.142118\n",
       "GarageCars     0.085920\n",
       "FullBath       0.082847\n",
       "YearBuilt      0.076559\n",
       "dtype: float64"
      ]
     },
     "execution_count": 44,
     "metadata": {},
     "output_type": "execute_result"
    }
   ],
   "source": [
    "#checking importance of used variables\n",
    "feature_importances = pd.Series(forest.feature_importances_, X_train.columns).sort_values(ascending=False)\n",
    "feature_importances.head()"
   ]
  },
  {
   "cell_type": "code",
   "execution_count": 45,
   "metadata": {},
   "outputs": [
    {
     "data": {
      "text/plain": [
       "<matplotlib.axes._subplots.AxesSubplot at 0x15ab3b82cf8>"
      ]
     },
     "execution_count": 45,
     "metadata": {},
     "output_type": "execute_result"
    },
    {
     "data": {
      "image/png": "[encoded data removed]",
      "text/plain": [
       "<Figure size 1152x360 with 1 Axes>"
      ]
     },
     "metadata": {
      "needs_background": "light"
     },
     "output_type": "display_data"
    }
   ],
   "source": [
    "feature_importances.plot(kind = 'bar', figsize=(16, 5))"
   ]
  },
  {
   "cell_type": "markdown",
   "metadata": {},
   "source": [
    "## Least square regression"
   ]
  },
  {
   "cell_type": "code",
   "execution_count": 46,
   "metadata": {},
   "outputs": [],
   "source": [
    "#preparing datasets for Linear Regression (only ordinal and quantitive data)\n",
    "X_train_lin = X_train[quantitive].join(X_train[ordinal])\n",
    "X_test_lin = X_test[quantitive].join(X_test[ordinal])"
   ]
  },
  {
   "cell_type": "code",
   "execution_count": 47,
   "metadata": {},
   "outputs": [
    {
     "data": {
      "text/plain": [
       "LinearRegression(copy_X=True, fit_intercept=True, n_jobs=4, normalize=False)"
      ]
     },
     "execution_count": 47,
     "metadata": {},
     "output_type": "execute_result"
    }
   ],
   "source": [
    "#Linear Regression using Least Square Method\n",
    "square = LinearRegression(fit_intercept=True, copy_X=True, n_jobs = 4)\n",
    "square.fit(X_train_lin,y_train)"
   ]
  },
  {
   "cell_type": "code",
   "execution_count": 48,
   "metadata": {},
   "outputs": [
    {
     "data": {
      "text/plain": [
       "0.8569025748824364"
      ]
     },
     "execution_count": 48,
     "metadata": {},
     "output_type": "execute_result"
    }
   ],
   "source": [
    "square_score = square.score(X_test_lin,y_test)\n",
    "square_score"
   ]
  },
  {
   "cell_type": "code",
   "execution_count": 49,
   "metadata": {},
   "outputs": [
    {
     "data": {
      "text/plain": [
       "-1073633.1729438643"
      ]
     },
     "execution_count": 49,
     "metadata": {},
     "output_type": "execute_result"
    }
   ],
   "source": [
    "#checking coefficients\n",
    "square.intercept_"
   ]
  },
  {
   "cell_type": "code",
   "execution_count": 50,
   "metadata": {},
   "outputs": [
    {
     "data": {
      "text/plain": [
       "LotArea                0.611871\n",
       "OverallQual        16267.420931\n",
       "OverallCond         4469.803245\n",
       "YearBuilt            481.100041\n",
       "GarageArea           -55.564982\n",
       "MiscVal               -0.066543\n",
       "OpenPorchSF           -1.078794\n",
       "EnclosedPorch         39.647113\n",
       "3SsnPorch             -7.088101\n",
       "ScreenPorch           76.134150\n",
       "PoolArea             -91.307562\n",
       "Pool_QC_Area         487.536347\n",
       "Garage_QC_Area        24.610609\n",
       "LotFrontage           24.244027\n",
       "GrLivArea             35.694983\n",
       "GarageCars          8018.042477\n",
       "TotalBsmtSF           27.957952\n",
       "1stFlrSF               2.041989\n",
       "FullBath           -4887.115201\n",
       "TotRmsAbvGrd        2595.350379\n",
       "Street             19908.900785\n",
       "LotShape           -3358.688368\n",
       "Basement          -19865.732717\n",
       "AfterRemod          9848.576835\n",
       "Utilities          51246.885393\n",
       "LandSlope          -7488.727602\n",
       "KitchenQual        14225.782998\n",
       "PavedDrive          1084.905154\n",
       "CentralAir         -3183.944471\n",
       "PoolQC           -292459.028196\n",
       "dtype: float64"
      ]
     },
     "execution_count": 50,
     "metadata": {},
     "output_type": "execute_result"
    }
   ],
   "source": [
    "#coefficients of the model\n",
    "pd.Series(square.coef_, X_train_lin.columns)"
   ]
  },
  {
   "cell_type": "code",
   "execution_count": 51,
   "metadata": {},
   "outputs": [
    {
     "data": {
      "text/plain": [
       "<matplotlib.axes._subplots.AxesSubplot at 0x15ab3aa3518>"
      ]
     },
     "execution_count": 51,
     "metadata": {},
     "output_type": "execute_result"
    },
    {
     "data": {
      "image/png": "[encoded data removed]",
      "text/plain": [
       "<Figure size 432x288 with 1 Axes>"
      ]
     },
     "metadata": {
      "needs_background": "light"
     },
     "output_type": "display_data"
    }
   ],
   "source": [
    "#creating a graph with residual values\n",
    "prediction = square.predict(X = X_test_lin)\n",
    "compare = pd.DataFrame({'prediction': prediction, 'true': y_test, 'diff': (y_test - prediction)})\n",
    "compare.plot.scatter( x = 'true', y = 'diff')"
   ]
  },
  {
   "cell_type": "markdown",
   "metadata": {},
   "source": [
    "# Ridge Regression"
   ]
  },
  {
   "cell_type": "code",
   "execution_count": 79,
   "metadata": {},
   "outputs": [
    {
     "name": "stderr",
     "output_type": "stream",
     "text": [
      "C:\\Users\\Mateusz Bujalski\\Anaconda3\\lib\\site-packages\\sklearn\\preprocessing\\data.py:645: DataConversionWarning: Data with input dtype int64, float64 were all converted to float64 by StandardScaler.\n",
      "  return self.partial_fit(X, y)\n",
      "C:\\Users\\Mateusz Bujalski\\Anaconda3\\lib\\site-packages\\ipykernel_launcher.py:6: DataConversionWarning: Data with input dtype int64, float64 were all converted to float64 by StandardScaler.\n",
      "  \n"
     ]
    }
   ],
   "source": [
    "#Scaling variables\n",
    "scaler = StandardScaler()\n",
    "X_lin = X[quantitive].join(X[ordinal])\n",
    "scaler.fit(X_lin)\n",
    "\n",
    "X_scaled = scaler.transform(X_lin)\n",
    "X_scaled = pd.DataFrame(X_scaled, columns = X_lin.columns)\n",
    "X_train_scaled, X_test_scaled, y_train_scaled, y_test_scaled = train_test_split(X_scaled, y, test_size = 0.2, random_state = 1)"
   ]
  },
  {
   "cell_type": "code",
   "execution_count": 53,
   "metadata": {},
   "outputs": [
    {
     "data": {
      "text/plain": [
       "Ridge(alpha=1, copy_X=True, fit_intercept=True, max_iter=None,\n",
       "   normalize=False, random_state=1, solver='auto', tol=0.001)"
      ]
     },
     "execution_count": 53,
     "metadata": {},
     "output_type": "execute_result"
    }
   ],
   "source": [
    "#Linear Regression using Ridge Method\n",
    "ridge = Ridge(fit_intercept=True, random_state=1, alpha=1)\n",
    "ridge.fit(X_train_scaled, y_train_scaled)"
   ]
  },
  {
   "cell_type": "code",
   "execution_count": 54,
   "metadata": {},
   "outputs": [
    {
     "data": {
      "text/plain": [
       "0.856724884153603"
      ]
     },
     "execution_count": 54,
     "metadata": {},
     "output_type": "execute_result"
    }
   ],
   "source": [
    "ridge_score = ridge.score(X = X_test_scaled, y = y_test_scaled)\n",
    "ridge_score"
   ]
  },
  {
   "cell_type": "code",
   "execution_count": 55,
   "metadata": {},
   "outputs": [
    {
     "data": {
      "text/plain": [
       "179247.52113259205"
      ]
     },
     "execution_count": 55,
     "metadata": {},
     "output_type": "execute_result"
    }
   ],
   "source": [
    "ridge.intercept_"
   ]
  },
  {
   "cell_type": "code",
   "execution_count": 56,
   "metadata": {},
   "outputs": [
    {
     "data": {
      "text/plain": [
       "LotArea            6088.534381\n",
       "OverallQual       22290.687972\n",
       "OverallCond        4986.025818\n",
       "YearBuilt         14480.224816\n",
       "GarageArea       -11223.593181\n",
       "MiscVal             -41.037358\n",
       "OpenPorchSF         -10.805889\n",
       "EnclosedPorch      2367.004707\n",
       "3SsnPorch          -205.992444\n",
       "ScreenPorch        4211.625574\n",
       "PoolArea          -3079.406774\n",
       "Pool_QC_Area      45895.591362\n",
       "Garage_QC_Area    15618.531379\n",
       "LotFrontage         761.552745\n",
       "GrLivArea         17991.784781\n",
       "GarageCars         6046.910010\n",
       "TotalBsmtSF       11781.959134\n",
       "1stFlrSF           1060.764327\n",
       "FullBath          -2590.345534\n",
       "TotRmsAbvGrd       4260.593747\n",
       "Street             1275.878289\n",
       "LotShape          -1946.998014\n",
       "Basement          -2994.554860\n",
       "AfterRemod         4886.691527\n",
       "Utilities          1356.609150\n",
       "LandSlope         -2087.028402\n",
       "KitchenQual        9419.092257\n",
       "PavedDrive          553.386829\n",
       "CentralAir         -780.033798\n",
       "PoolQC           -48339.223644\n",
       "dtype: float64"
      ]
     },
     "execution_count": 56,
     "metadata": {},
     "output_type": "execute_result"
    }
   ],
   "source": [
    "#coefficients of the model\n",
    "pd.Series(ridge.coef_, X_train_scaled.columns)"
   ]
  },
  {
   "cell_type": "markdown",
   "metadata": {},
   "source": [
    "## Lasso Regression"
   ]
  },
  {
   "cell_type": "code",
   "execution_count": 57,
   "metadata": {},
   "outputs": [
    {
     "data": {
      "text/plain": [
       "Lasso(alpha=4, copy_X=True, fit_intercept=True, max_iter=50000,\n",
       "   normalize=False, positive=False, precompute=False, random_state=1,\n",
       "   selection='cyclic', tol=0.0001, warm_start=False)"
      ]
     },
     "execution_count": 57,
     "metadata": {},
     "output_type": "execute_result"
    }
   ],
   "source": [
    "#Linear Regression using Lasso Method\n",
    "lasso = Lasso(fit_intercept=True, copy_X=True, random_state=1, max_iter=50000, alpha=4)\n",
    "lasso.fit(X=X_train_scaled, y=y_train_scaled)"
   ]
  },
  {
   "cell_type": "code",
   "execution_count": 58,
   "metadata": {},
   "outputs": [
    {
     "data": {
      "text/plain": [
       "0.8569611565075915"
      ]
     },
     "execution_count": 58,
     "metadata": {},
     "output_type": "execute_result"
    }
   ],
   "source": [
    "lasso_score = lasso.score(X=X_test_scaled, y=y_test_scaled)\n",
    "lasso_score"
   ]
  },
  {
   "cell_type": "code",
   "execution_count": 59,
   "metadata": {},
   "outputs": [
    {
     "data": {
      "text/plain": [
       "179249.82849583123"
      ]
     },
     "execution_count": 59,
     "metadata": {},
     "output_type": "execute_result"
    }
   ],
   "source": [
    "lasso.intercept_"
   ]
  },
  {
   "cell_type": "code",
   "execution_count": 60,
   "metadata": {},
   "outputs": [
    {
     "data": {
      "text/plain": [
       "LotArea            6095.148947\n",
       "OverallQual       22283.736287\n",
       "OverallCond        4974.761832\n",
       "YearBuilt         14500.296941\n",
       "GarageArea       -11477.198932\n",
       "MiscVal             -30.755199\n",
       "OpenPorchSF         -59.334986\n",
       "EnclosedPorch      2408.747843\n",
       "3SsnPorch          -204.444430\n",
       "ScreenPorch        4228.140796\n",
       "PoolArea          -3372.788098\n",
       "Pool_QC_Area      48829.049086\n",
       "Garage_QC_Area    15954.984350\n",
       "LotFrontage         826.509584\n",
       "GrLivArea         18206.200650\n",
       "GarageCars         5938.616422\n",
       "TotalBsmtSF       12087.219230\n",
       "1stFlrSF            812.349021\n",
       "FullBath          -2643.560478\n",
       "TotRmsAbvGrd       4170.073394\n",
       "Street             1272.341908\n",
       "LotShape          -1954.852854\n",
       "Basement          -3106.704262\n",
       "AfterRemod         4905.451476\n",
       "Utilities          1341.144067\n",
       "LandSlope         -2070.015751\n",
       "KitchenQual        9390.996567\n",
       "PavedDrive          539.769961\n",
       "CentralAir         -773.673080\n",
       "PoolQC           -51055.076035\n",
       "dtype: float64"
      ]
     },
     "execution_count": 60,
     "metadata": {},
     "output_type": "execute_result"
    }
   ],
   "source": [
    "#coefficients of the model\n",
    "pd.Series(lasso.coef_, X_train_scaled.columns)"
   ]
  },
  {
   "cell_type": "markdown",
   "metadata": {},
   "source": [
    "## K-Nearest Neighbours with GridSearchCV"
   ]
  },
  {
   "cell_type": "code",
   "execution_count": 61,
   "metadata": {},
   "outputs": [],
   "source": [
    "#chosing most important features basing on feature_importance from Random Forest estimator\n",
    "feat_neighb = feature_importances.nlargest(10).index.to_list()\n",
    "\n",
    "X_train_neighb = X_train_scaled[feat_neighb]\n",
    "X_test_neighb = X_test_scaled[feat_neighb]"
   ]
  },
  {
   "cell_type": "code",
   "execution_count": 62,
   "metadata": {},
   "outputs": [],
   "source": [
    "#Using GridSearch to find the best hiperparameters fot GradientBoostRegressor\n",
    "neighbours_param_grid = {'n_neighbors': range(1, 30)}\n",
    "neighbors_estimator = KNeighborsRegressor()\n",
    "neighbours_grid = GridSearchCV(param_grid=neighbours_param_grid, estimator=neighbors_estimator, cv=4, n_jobs=4)"
   ]
  },
  {
   "cell_type": "code",
   "execution_count": 63,
   "metadata": {},
   "outputs": [
    {
     "data": {
      "text/plain": [
       "GridSearchCV(cv=4, error_score='raise-deprecating',\n",
       "       estimator=KNeighborsRegressor(algorithm='auto', leaf_size=30, metric='minkowski',\n",
       "          metric_params=None, n_jobs=None, n_neighbors=5, p=2,\n",
       "          weights='uniform'),\n",
       "       fit_params=None, iid='warn', n_jobs=4,\n",
       "       param_grid={'n_neighbors': range(1, 30)}, pre_dispatch='2*n_jobs',\n",
       "       refit=True, return_train_score='warn', scoring=None, verbose=0)"
      ]
     },
     "execution_count": 63,
     "metadata": {},
     "output_type": "execute_result"
    }
   ],
   "source": [
    "#model training\n",
    "neighbours_grid.fit(X_train_neighb, y_train_scaled)"
   ]
  },
  {
   "cell_type": "code",
   "execution_count": 64,
   "metadata": {},
   "outputs": [
    {
     "data": {
      "text/plain": [
       "{'n_neighbors': 10}"
      ]
     },
     "execution_count": 64,
     "metadata": {},
     "output_type": "execute_result"
    }
   ],
   "source": [
    "#check of best hiperparameter\n",
    "neighbours_grid.best_params_"
   ]
  },
  {
   "cell_type": "code",
   "execution_count": 65,
   "metadata": {},
   "outputs": [
    {
     "data": {
      "text/plain": [
       "0.8536948494103186"
      ]
     },
     "execution_count": 65,
     "metadata": {},
     "output_type": "execute_result"
    }
   ],
   "source": [
    "#check of score\n",
    "neighbours_grid_score = neighbours_grid.score(X_test_neighb, y_test_scaled)\n",
    "neighbours_grid_score"
   ]
  },
  {
   "cell_type": "markdown",
   "metadata": {},
   "source": [
    "## DummyRegressor"
   ]
  },
  {
   "cell_type": "code",
   "execution_count": 66,
   "metadata": {},
   "outputs": [
    {
     "data": {
      "text/plain": [
       "DummyRegressor(constant=None, quantile=None, strategy='mean')"
      ]
     },
     "execution_count": 66,
     "metadata": {},
     "output_type": "execute_result"
    }
   ],
   "source": [
    "#comparing obtained scores with score from Dummy Regressor\n",
    "dummy = DummyRegressor(strategy='mean')\n",
    "dummy.fit(X=X_train, y=y_train)"
   ]
  },
  {
   "cell_type": "code",
   "execution_count": 67,
   "metadata": {},
   "outputs": [
    {
     "data": {
      "text/plain": [
       "-0.0027327000850954075"
      ]
     },
     "execution_count": 67,
     "metadata": {},
     "output_type": "execute_result"
    }
   ],
   "source": [
    "dummy.score(X = X_test, y=y_test)"
   ]
  },
  {
   "cell_type": "markdown",
   "metadata": {},
   "source": [
    "## Predictions for test data"
   ]
  },
  {
   "cell_type": "code",
   "execution_count": 68,
   "metadata": {},
   "outputs": [
    {
     "data": {
      "text/plain": [
       "boost_grid         0.892031\n",
       "bag                0.877564\n",
       "lasso              0.856961\n",
       "square             0.856903\n",
       "ridge              0.856725\n",
       "neighbours_grid    0.853695\n",
       "forest             0.806423\n",
       "grid_tree          0.757205\n",
       "dtype: float64"
      ]
     },
     "execution_count": 68,
     "metadata": {},
     "output_type": "execute_result"
    }
   ],
   "source": [
    "#collecting scores of all created models\n",
    "scores = pd.Series({'grid_tree': grid_tree_score,\n",
    "'forest': forest_score,\n",
    "'square': square_score,\n",
    "'lasso': lasso_score,\n",
    "'ridge': ridge_score,\n",
    "'bag': bag_score,\n",
    "'boost_grid': boost_grid_score,\n",
    "'neighbours_grid': neighbours_grid_score})\n",
    "scores.sort_values(ascending = False)"
   ]
  },
  {
   "cell_type": "code",
   "execution_count": 69,
   "metadata": {},
   "outputs": [
    {
     "data": {
      "text/plain": [
       "'boost_grid'"
      ]
     },
     "execution_count": 69,
     "metadata": {},
     "output_type": "execute_result"
    }
   ],
   "source": [
    "scores.idxmax()"
   ]
  },
  {
   "cell_type": "code",
   "execution_count": 82,
   "metadata": {},
   "outputs": [
    {
     "name": "stderr",
     "output_type": "stream",
     "text": [
      "C:\\Users\\Mateusz Bujalski\\Anaconda3\\lib\\site-packages\\ipykernel_launcher.py:10: DataConversionWarning: Data with input dtype int64, float64 were all converted to float64 by StandardScaler.\n",
      "  # Remove the CWD from sys.path while we load stuff.\n"
     ]
    }
   ],
   "source": [
    "#below are transformations of evaluate set needed for particular estimators (as this set need to be \n",
    "#transformed in the same way, as training set) - proper set will be used depending on used estimator\n",
    "\n",
    "#change of evaluate set for linear models (only ordinal and quantitive features)\n",
    "\n",
    "evaluate_lin = evaluate[quantitive].join(evaluate[ordinal])\n",
    "\n",
    "#change of evaluate set needed for estimators with scaled training set\n",
    "\n",
    "evaluate_scaled = pd.DataFrame(scaler.transform(evaluate_lin), columns = X_lin.columns)\n",
    "\n",
    "#change of evaluate set needed for K-nearest Neighbours estimator (as not all features were used)\n",
    "\n",
    "evaluate_neigh = evaluate_scaled[feat_neighb]"
   ]
  },
  {
   "cell_type": "code",
   "execution_count": 103,
   "metadata": {},
   "outputs": [],
   "source": [
    "#creating file for submission using model with the best score\n",
    "predict = boost_grid.predict(X = evaluate)"
   ]
  },
  {
   "cell_type": "code",
   "execution_count": 104,
   "metadata": {},
   "outputs": [],
   "source": [
    "results = pd.DataFrame({'Id': evaluate.index,\n",
    "                        'SalePrice': predict})"
   ]
  },
  {
   "cell_type": "code",
   "execution_count": 105,
   "metadata": {},
   "outputs": [],
   "source": [
    "results = results.set_index(keys = 'Id')"
   ]
  },
  {
   "cell_type": "code",
   "execution_count": 106,
   "metadata": {},
   "outputs": [],
   "source": [
    "results.to_csv('submission.csv')"
   ]
  },
  {
   "cell_type": "code",
   "execution_count": null,
   "metadata": {},
   "outputs": [],
   "source": []
  }
 ],
 "metadata": {
  "kernelspec": {
   "display_name": "Python 3",
   "language": "python",
   "name": "python3"
  },
  "language_info": {
   "codemirror_mode": {
    "name": "ipython",
    "version": 3
   },
   "file_extension": ".py",
   "mimetype": "text/x-python",
   "name": "python",
   "nbconvert_exporter": "python",
   "pygments_lexer": "ipython3",
   "version": "3.6.8"
  }
 },
 "nbformat": 4,
 "nbformat_minor": 2
}
