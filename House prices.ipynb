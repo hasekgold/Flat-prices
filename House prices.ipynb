{
 "cells": [
  {
   "cell_type": "markdown",
   "metadata": {},
   "source": [
    "# Data loading and processing"
   ]
  },
  {
   "cell_type": "code",
   "execution_count": 1,
   "metadata": {},
   "outputs": [],
   "source": [
    "import pandas as pd\n",
    "import numpy as np\n",
    "from sklearn.tree import DecisionTreeRegressor, export_graphviz\n",
    "from sklearn.model_selection import train_test_split\n",
    "from sklearn.model_selection import GridSearchCV\n",
    "from sklearn.ensemble import RandomForestRegressor\n",
    "from sklearn.dummy import DummyRegressor\n",
    "from sklearn.linear_model import LinearRegression, Lasso, Ridge\n",
    "from sklearn.ensemble import BaggingRegressor, GradientBoostingRegressor\n",
    "\n",
    "%matplotlib inline"
   ]
  },
  {
   "cell_type": "code",
   "execution_count": 2,
   "metadata": {},
   "outputs": [],
   "source": [
    "#Loading train and test data (test set for competition will be called evaluate)\n",
    "data = pd.read_csv('train.csv', index_col = 'Id')\n",
    "evaluate = pd.read_csv('test.csv', index_col = 'Id')"
   ]
  },
  {
   "cell_type": "code",
   "execution_count": 3,
   "metadata": {},
   "outputs": [],
   "source": [
    "#appending both sets to be sure, that made changes whould be the same\n",
    "full = data.append(evaluate, ignore_index=False, sort = False)"
   ]
  },
  {
   "cell_type": "markdown",
   "metadata": {},
   "source": [
    "## Features engineering"
   ]
  },
  {
   "cell_type": "code",
   "execution_count": 4,
   "metadata": {},
   "outputs": [],
   "source": [
    "#creating three typeas of variables: qualitive (only for factorization), \n",
    "#ordinal (to change names so that bigger number is better) and quantitive (no need for change)\n",
    "qualitive = ['MSSubClass', 'MSZoning', 'BldgType', 'Heating',\n",
    "             'GarageType', 'GarageFinish', \n",
    "                 'SaleType', 'SaleCondition',\n",
    "                'Foundation', 'Fence']\n",
    "\n",
    "ordinal = ['Street', 'LotShape', 'Basement', 'AfterRemod', 'Utilities', 'LandSlope', 'KitchenQual', 'PavedDrive', \n",
    "                'CentralAir', 'PoolQC']\n",
    "    \n",
    "quantitive = ['LotArea', 'OverallQual', 'OverallCond', 'YearBuilt', 'GarageArea', \n",
    "             'MiscVal', 'OpenPorchSF', 'EnclosedPorch', '3SsnPorch', 'ScreenPorch', 'PoolArea', \n",
    "              'Pool_QC_Area', 'Garage_QC_Area', 'LotFrontage']\n",
    "\n",
    "\n"
   ]
  },
  {
   "cell_type": "code",
   "execution_count": 5,
   "metadata": {},
   "outputs": [],
   "source": [
    "for i in qualitive:\n",
    "    full[i] = full[i].factorize()[0]"
   ]
  },
  {
   "cell_type": "code",
   "execution_count": 6,
   "metadata": {},
   "outputs": [],
   "source": [
    "#creating three typeas of variables: qualitive (only for factorization), \n",
    "#ordinal (to change names so that bigger number is better) and quantitive (no need for change)\n",
    "qualitive = ['MSSubClass', 'MSZoning', 'BldgType', 'Heating',\n",
    "             'GarageType', 'GarageFinish', \n",
    "                 'SaleType', 'SaleCondition',\n",
    "                'Foundation', 'Fence']\n",
    "\n",
    "ordinal = ['Street', 'LotShape', 'Utilities', 'LandSlope', 'KitchenQual', 'PavedDrive', \n",
    "                'CentralAir', 'PoolQC']\n",
    "    \n",
    "quantitive = ['LotArea', 'OverallQual', 'OverallCond', 'YearBuilt', 'GarageArea', \n",
    "             'MiscVal', 'OpenPorchSF', 'EnclosedPorch', '3SsnPorch', 'ScreenPorch', 'PoolArea', \n",
    "             'LotFrontage']\n",
    "\n",
    "\n"
   ]
  },
  {
   "cell_type": "code",
   "execution_count": 7,
   "metadata": {},
   "outputs": [],
   "source": [
    "full['Basement'] = full['BsmtQual'].notnull().map({True: 1, False: 0})"
   ]
  },
  {
   "cell_type": "code",
   "execution_count": 8,
   "metadata": {},
   "outputs": [],
   "source": [
    "full['AfterRemod'] = full['YearBuilt'].where(full['YearBuilt'] == full['YearRemodAdd']).isna().map({True: 1, False: 0})"
   ]
  },
  {
   "cell_type": "code",
   "execution_count": 9,
   "metadata": {},
   "outputs": [],
   "source": [
    "full['GarageArea'] = full['GarageArea'].fillna(0)"
   ]
  },
  {
   "cell_type": "code",
   "execution_count": 10,
   "metadata": {},
   "outputs": [],
   "source": [
    "full['KitchenQual'] = full['KitchenQual'].map({'Fa': 0,\n",
    "                    'TA': 1, \n",
    "                    'Gd': 2, \n",
    "                    'Ex': 3})\n",
    "full['KitchenQual'] = full['KitchenQual'].fillna(0)"
   ]
  },
  {
   "cell_type": "code",
   "execution_count": 11,
   "metadata": {},
   "outputs": [],
   "source": [
    "full['Street'] = full['Street'].map({'Grvl': 0,\n",
    "                    'Pave': 1})"
   ]
  },
  {
   "cell_type": "code",
   "execution_count": 12,
   "metadata": {},
   "outputs": [],
   "source": [
    "full['LotShape'] = full['LotShape'].map({'IR3': 0,\n",
    "                    'IR2': 1, \n",
    "                    'IR1': 2, \n",
    "                    'Reg': 3})"
   ]
  },
  {
   "cell_type": "code",
   "execution_count": 13,
   "metadata": {},
   "outputs": [],
   "source": [
    "full['Utilities'] = full['Utilities'].map({'AllPub': 1,\n",
    "                    'NoSeWa': 0})\n",
    "full['Utilities'] = full['Utilities'].fillna(0)"
   ]
  },
  {
   "cell_type": "code",
   "execution_count": 14,
   "metadata": {},
   "outputs": [],
   "source": [
    "full['LandSlope'] = full['LandSlope'].map({'Sev': 0,\n",
    "                    'Mod': 1, \n",
    "                    'Gtl': 2})"
   ]
  },
  {
   "cell_type": "code",
   "execution_count": 15,
   "metadata": {},
   "outputs": [],
   "source": [
    "full['PavedDrive'] = full['PavedDrive'].map({'N': 0,\n",
    "                    'P': 1, \n",
    "                    'Y': 2})"
   ]
  },
  {
   "cell_type": "code",
   "execution_count": 16,
   "metadata": {},
   "outputs": [],
   "source": [
    "full['CentralAir'] = full['CentralAir'].map({'N': 0,\n",
    "                    'Y': 1})"
   ]
  },
  {
   "cell_type": "code",
   "execution_count": 17,
   "metadata": {},
   "outputs": [],
   "source": [
    "full['PoolQC'] = full['PoolQC'].map({'Fa': 1,\n",
    "                    'TA': 2, \n",
    "                    'Gd': 3, \n",
    "                    'Ex': 4})\n",
    "full['PoolQC'] = full['PoolQC'].fillna(0)"
   ]
  },
  {
   "cell_type": "code",
   "execution_count": 18,
   "metadata": {},
   "outputs": [],
   "source": [
    "full['Pool_QC_Area'] = full['PoolQC'] * full['PoolArea']"
   ]
  },
  {
   "cell_type": "code",
   "execution_count": 19,
   "metadata": {},
   "outputs": [],
   "source": [
    "full['GarageQual'] = full['GarageQual'].map({'Po': 1, \n",
    "                    'Fa': 2,\n",
    "                    'TA': 3, \n",
    "                    'Gd': 4, \n",
    "                    'Ex': 5})\n",
    "full['GarageQual'] = full['GarageQual'].fillna(0)"
   ]
  },
  {
   "cell_type": "code",
   "execution_count": 20,
   "metadata": {},
   "outputs": [],
   "source": [
    "full['Garage_QC_Area'] = full['GarageQual'] * full['GarageArea']"
   ]
  },
  {
   "cell_type": "code",
   "execution_count": 21,
   "metadata": {},
   "outputs": [],
   "source": [
    " full['LotFrontage'] = full['LotFrontage'].fillna(0)"
   ]
  },
  {
   "cell_type": "markdown",
   "metadata": {},
   "source": [
    "## Sets"
   ]
  },
  {
   "cell_type": "code",
   "execution_count": 22,
   "metadata": {},
   "outputs": [],
   "source": [
    "#joining all needen columns in one DataFrame\n",
    "full = full[qualitive].join(full[quantitive]).join(full[ordinal]).join(full['SalePrice'])"
   ]
  },
  {
   "cell_type": "code",
   "execution_count": 23,
   "metadata": {},
   "outputs": [],
   "source": [
    "#division of trainging and evaluate sets\n",
    "data = full[full['SalePrice'].isna() == False]\n",
    "evaluate = full[full['SalePrice'].isna() == True].drop(labels = 'SalePrice', axis = 1)"
   ]
  },
  {
   "cell_type": "code",
   "execution_count": 24,
   "metadata": {},
   "outputs": [],
   "source": [
    "#removing outliers and leverage values\n",
    "mean = data.describe().loc['mean', 'SalePrice']\n",
    "std = data.describe().loc['std', 'SalePrice']\n",
    "data = data[data['SalePrice'] < (mean + 5*std)]"
   ]
  },
  {
   "cell_type": "code",
   "execution_count": 25,
   "metadata": {},
   "outputs": [],
   "source": [
    "#creating X and y sets\n",
    "y = data['SalePrice']\n",
    "X = data.drop(labels = 'SalePrice', axis = 1)"
   ]
  },
  {
   "cell_type": "code",
   "execution_count": 26,
   "metadata": {},
   "outputs": [],
   "source": [
    "#division of sets for training and scoring\n",
    "X_train, X_test, y_train, y_test = train_test_split(X, y, test_size = 0.2, random_state = 1)"
   ]
  },
  {
   "cell_type": "markdown",
   "metadata": {},
   "source": [
    "# Decision Tree model learning"
   ]
  },
  {
   "cell_type": "code",
   "execution_count": 27,
   "metadata": {},
   "outputs": [
    {
     "data": {
      "text/plain": [
       "DecisionTreeRegressor(criterion='mse', max_depth=None, max_features=None,\n",
       "           max_leaf_nodes=None, min_impurity_decrease=0.0,\n",
       "           min_impurity_split=None, min_samples_leaf=1,\n",
       "           min_samples_split=2, min_weight_fraction_leaf=0.0,\n",
       "           presort=False, random_state=1, splitter='best')"
      ]
     },
     "execution_count": 27,
     "metadata": {},
     "output_type": "execute_result"
    }
   ],
   "source": [
    "#training Decision Tree without limits for hiperparameters\n",
    "tree = DecisionTreeRegressor(random_state = 1)\n",
    "tree.fit(X=X_train, y=y_train)"
   ]
  },
  {
   "cell_type": "code",
   "execution_count": 28,
   "metadata": {},
   "outputs": [
    {
     "data": {
      "text/plain": [
       "0.7104359554084321"
      ]
     },
     "execution_count": 28,
     "metadata": {},
     "output_type": "execute_result"
    }
   ],
   "source": [
    "#checking a score (low - probably overfitted model)\n",
    "tree_score = tree.score(X_test, y_test)\n",
    "tree_score "
   ]
  },
  {
   "cell_type": "code",
   "execution_count": 29,
   "metadata": {},
   "outputs": [],
   "source": [
    "#exporting tree to external file for visualisation\n",
    "export_graphviz(tree, out_file='graph')"
   ]
  },
  {
   "cell_type": "markdown",
   "metadata": {},
   "source": [
    "# Bagging"
   ]
  },
  {
   "cell_type": "code",
   "execution_count": 30,
   "metadata": {},
   "outputs": [
    {
     "data": {
      "text/plain": [
       "BaggingRegressor(base_estimator=None, bootstrap=True,\n",
       "         bootstrap_features=False, max_features=1.0, max_samples=1.0,\n",
       "         n_estimators=200, n_jobs=4, oob_score=False, random_state=1,\n",
       "         verbose=0, warm_start=False)"
      ]
     },
     "execution_count": 30,
     "metadata": {},
     "output_type": "execute_result"
    }
   ],
   "source": [
    "#Training Decistion Tree with Bagging\n",
    "bag = BaggingRegressor(n_estimators=200, n_jobs=4, random_state=1)\n",
    "bag.fit(X=X_train, y=y_train)"
   ]
  },
  {
   "cell_type": "code",
   "execution_count": 31,
   "metadata": {},
   "outputs": [
    {
     "data": {
      "text/plain": [
       "0.828690513797911"
      ]
     },
     "execution_count": 31,
     "metadata": {},
     "output_type": "execute_result"
    }
   ],
   "source": [
    "bag_score = bag.score(X_test, y_test)\n",
    "bag_score"
   ]
  },
  {
   "cell_type": "markdown",
   "metadata": {},
   "source": [
    "# Boosting"
   ]
  },
  {
   "cell_type": "code",
   "execution_count": 32,
   "metadata": {},
   "outputs": [
    {
     "data": {
      "text/plain": [
       "GradientBoostingRegressor(alpha=0.9, criterion='friedman_mse', init=None,\n",
       "             learning_rate=0.1, loss='ls', max_depth=3, max_features=None,\n",
       "             max_leaf_nodes=None, min_impurity_decrease=0.0,\n",
       "             min_impurity_split=None, min_samples_leaf=1,\n",
       "             min_samples_split=2, min_weight_fraction_leaf=0.0,\n",
       "             n_estimators=500, n_iter_no_change=None, presort='auto',\n",
       "             random_state=None, subsample=1.0, tol=0.0001,\n",
       "             validation_fraction=0.1, verbose=0, warm_start=False)"
      ]
     },
     "execution_count": 32,
     "metadata": {},
     "output_type": "execute_result"
    }
   ],
   "source": [
    "#Training Decistion Tree with Boosting\n",
    "boost = GradientBoostingRegressor(n_estimators=500)\n",
    "boost.fit(X_train, y_train)"
   ]
  },
  {
   "cell_type": "code",
   "execution_count": 33,
   "metadata": {},
   "outputs": [
    {
     "data": {
      "text/plain": [
       "0.8153933514522544"
      ]
     },
     "execution_count": 33,
     "metadata": {},
     "output_type": "execute_result"
    }
   ],
   "source": [
    "boost_score = boost.score(X_test, y_test)\n",
    "boost_score"
   ]
  },
  {
   "cell_type": "code",
   "execution_count": 34,
   "metadata": {},
   "outputs": [
    {
     "data": {
      "text/plain": [
       "OverallQual      0.597751\n",
       "LotArea          0.101598\n",
       "GarageArea       0.086913\n",
       "KitchenQual      0.050137\n",
       "LotFrontage      0.031237\n",
       "YearBuilt        0.025890\n",
       "OpenPorchSF      0.021975\n",
       "MSSubClass       0.018593\n",
       "MSZoning         0.009169\n",
       "GarageFinish     0.008998\n",
       "ScreenPorch      0.008184\n",
       "SaleCondition    0.006025\n",
       "OverallCond      0.005799\n",
       "EnclosedPorch    0.005244\n",
       "SaleType         0.004258\n",
       "CentralAir       0.003872\n",
       "LandSlope        0.003415\n",
       "LotShape         0.002752\n",
       "PavedDrive       0.001621\n",
       "Foundation       0.001580\n",
       "GarageType       0.001046\n",
       "BldgType         0.000839\n",
       "MiscVal          0.000657\n",
       "Fence            0.000638\n",
       "PoolArea         0.000497\n",
       "Heating          0.000467\n",
       "Street           0.000455\n",
       "Utilities        0.000226\n",
       "3SsnPorch        0.000156\n",
       "PoolQC           0.000007\n",
       "dtype: float64"
      ]
     },
     "execution_count": 34,
     "metadata": {},
     "output_type": "execute_result"
    }
   ],
   "source": [
    "boost_feature_importances = pd.Series(boost.feature_importances_, X_train.columns).sort_values(ascending=False)\n",
    "boost_feature_importances"
   ]
  },
  {
   "cell_type": "code",
   "execution_count": 35,
   "metadata": {},
   "outputs": [
    {
     "data": {
      "text/plain": [
       "<matplotlib.axes._subplots.AxesSubplot at 0x27daf3e1978>"
      ]
     },
     "execution_count": 35,
     "metadata": {},
     "output_type": "execute_result"
    },
    {
     "data": {
      "image/png": "[encoded data removed]",
      "text/plain": [
       "<Figure size 1152x360 with 1 Axes>"
      ]
     },
     "metadata": {
      "needs_background": "light"
     },
     "output_type": "display_data"
    }
   ],
   "source": [
    "boost_feature_importances.plot(kind = 'bar', figsize=(16, 5))"
   ]
  },
  {
   "cell_type": "markdown",
   "metadata": {},
   "source": [
    "# Chossing best hiperparameters with GridSearchCV"
   ]
  },
  {
   "cell_type": "code",
   "execution_count": 36,
   "metadata": {},
   "outputs": [
    {
     "data": {
      "text/plain": [
       "GridSearchCV(cv=3, error_score='raise-deprecating',\n",
       "       estimator=DecisionTreeRegressor(criterion='mse', max_depth=None, max_features=None,\n",
       "           max_leaf_nodes=None, min_impurity_decrease=0.0,\n",
       "           min_impurity_split=None, min_samples_leaf=1,\n",
       "           min_samples_split=2, min_weight_fraction_leaf=0.0,\n",
       "           presort=False, random_state=1, splitter='best'),\n",
       "       fit_params=None, iid='warn', n_jobs=4,\n",
       "       param_grid={'max_depth': range(1, 5), 'min_samples_leaf': range(1, 10), 'min_samples_split': range(2, 10)},\n",
       "       pre_dispatch='2*n_jobs', refit=True, return_train_score='warn',\n",
       "       scoring=None, verbose=0)"
      ]
     },
     "execution_count": 36,
     "metadata": {},
     "output_type": "execute_result"
    }
   ],
   "source": [
    "#using GridSearchCV module to find best hiperparameters for Decision Tree with usage of Cross Validation\n",
    "estimator = DecisionTreeRegressor(random_state = 1)\n",
    "param_grid = {'max_depth': range(1, 5),\n",
    "              'min_samples_leaf': range (1, 10),\n",
    "             'min_samples_split': range (2, 10)}\n",
    "grid = GridSearchCV(estimator=estimator, param_grid=param_grid, cv=3, n_jobs=4)\n",
    "grid.fit(X=X, y=y)"
   ]
  },
  {
   "cell_type": "code",
   "execution_count": 37,
   "metadata": {},
   "outputs": [
    {
     "data": {
      "text/plain": [
       "max_depth            4\n",
       "min_samples_leaf     6\n",
       "min_samples_split    2\n",
       "dtype: int64"
      ]
     },
     "execution_count": 37,
     "metadata": {},
     "output_type": "execute_result"
    }
   ],
   "source": [
    "#checking the best hiperparameters\n",
    "best_params = pd.Series(grid.best_params_)\n",
    "best_params"
   ]
  },
  {
   "cell_type": "code",
   "execution_count": 38,
   "metadata": {},
   "outputs": [
    {
     "data": {
      "text/plain": [
       "0.7911958421425753"
      ]
     },
     "execution_count": 38,
     "metadata": {},
     "output_type": "execute_result"
    }
   ],
   "source": [
    "#model scoring - much better than tree without limits\n",
    "grid_score = grid.score(X=X_test, y=y_test)\n",
    "grid_score"
   ]
  },
  {
   "cell_type": "markdown",
   "metadata": {},
   "source": [
    "# Random forest training"
   ]
  },
  {
   "cell_type": "code",
   "execution_count": 39,
   "metadata": {},
   "outputs": [
    {
     "data": {
      "text/plain": [
       "RandomForestRegressor(bootstrap=True, criterion='mse', max_depth=4,\n",
       "           max_features=5, max_leaf_nodes=None, min_impurity_decrease=0.0,\n",
       "           min_impurity_split=None, min_samples_leaf=6,\n",
       "           min_samples_split=2, min_weight_fraction_leaf=0.0,\n",
       "           n_estimators=100, n_jobs=4, oob_score=False, random_state=1,\n",
       "           verbose=0, warm_start=False)"
      ]
     },
     "execution_count": 39,
     "metadata": {},
     "output_type": "execute_result"
    }
   ],
   "source": [
    "#Random Forest training using the best hiperparameters\n",
    "sqrt = int(np.sqrt(len(X_train.columns)))\n",
    "forest = RandomForestRegressor(max_depth=best_params['max_depth'],\n",
    "                              min_samples_leaf = best_params['min_samples_leaf'],\n",
    "                              min_samples_split = best_params['min_samples_split'], n_estimators=100, random_state = 1,\n",
    "                              bootstrap=True, max_features=sqrt, n_jobs=4)\n",
    "forest.fit(X=X_train, y=y_train)"
   ]
  },
  {
   "cell_type": "code",
   "execution_count": 40,
   "metadata": {},
   "outputs": [
    {
     "data": {
      "text/plain": [
       "0.7585399714185186"
      ]
     },
     "execution_count": 40,
     "metadata": {},
     "output_type": "execute_result"
    }
   ],
   "source": [
    "forest_score = forest.score(X=X_test, y=y_test)\n",
    "forest_score"
   ]
  },
  {
   "cell_type": "code",
   "execution_count": 41,
   "metadata": {},
   "outputs": [
    {
     "data": {
      "text/plain": [
       "OverallQual      0.292572\n",
       "GarageArea       0.146777\n",
       "KitchenQual      0.111692\n",
       "YearBuilt        0.110167\n",
       "LotArea          0.067606\n",
       "OpenPorchSF      0.060891\n",
       "Foundation       0.049920\n",
       "MSSubClass       0.036577\n",
       "GarageFinish     0.030767\n",
       "LotFrontage      0.026425\n",
       "SaleCondition    0.012312\n",
       "MSZoning         0.011276\n",
       "LotShape         0.009459\n",
       "GarageType       0.007425\n",
       "SaleType         0.006952\n",
       "OverallCond      0.006053\n",
       "CentralAir       0.003013\n",
       "ScreenPorch      0.002826\n",
       "BldgType         0.001764\n",
       "PavedDrive       0.001728\n",
       "LandSlope        0.001367\n",
       "EnclosedPorch    0.001304\n",
       "Fence            0.000948\n",
       "MiscVal          0.000110\n",
       "Heating          0.000070\n",
       "PoolArea         0.000000\n",
       "Utilities        0.000000\n",
       "Street           0.000000\n",
       "3SsnPorch        0.000000\n",
       "PoolQC           0.000000\n",
       "dtype: float64"
      ]
     },
     "execution_count": 41,
     "metadata": {},
     "output_type": "execute_result"
    }
   ],
   "source": [
    "#checking importance of used variables\n",
    "feature_importances = pd.Series(forest.feature_importances_, X_train.columns).sort_values(ascending=False)\n",
    "feature_importances"
   ]
  },
  {
   "cell_type": "code",
   "execution_count": 42,
   "metadata": {},
   "outputs": [
    {
     "data": {
      "text/plain": [
       "<matplotlib.axes._subplots.AxesSubplot at 0x27daf7786a0>"
      ]
     },
     "execution_count": 42,
     "metadata": {},
     "output_type": "execute_result"
    },
    {
     "data": {
      "image/png": "[encoded data removed]",
      "text/plain": [
       "<Figure size 1152x360 with 1 Axes>"
      ]
     },
     "metadata": {
      "needs_background": "light"
     },
     "output_type": "display_data"
    }
   ],
   "source": [
    "feature_importances.plot(kind = 'bar', figsize=(16, 5))"
   ]
  },
  {
   "cell_type": "markdown",
   "metadata": {},
   "source": [
    "## Least square regression"
   ]
  },
  {
   "cell_type": "code",
   "execution_count": 43,
   "metadata": {},
   "outputs": [],
   "source": [
    "#preparing datasets for Linear Regression (only ordinal and quantitive data)\n",
    "X_train_lin = X_train[quantitive].join(X_train[ordinal])\n",
    "X_test_lin = X_test[quantitive].join(X_test[ordinal])"
   ]
  },
  {
   "cell_type": "code",
   "execution_count": 44,
   "metadata": {},
   "outputs": [
    {
     "data": {
      "text/plain": [
       "LinearRegression(copy_X=True, fit_intercept=True, n_jobs=4, normalize=True)"
      ]
     },
     "execution_count": 44,
     "metadata": {},
     "output_type": "execute_result"
    }
   ],
   "source": [
    "#Linear Regression using Least Square Method\n",
    "square = LinearRegression(fit_intercept=True, copy_X=True, n_jobs = 4, normalize = True)\n",
    "square.fit(X_train_lin,y_train)"
   ]
  },
  {
   "cell_type": "code",
   "execution_count": 45,
   "metadata": {},
   "outputs": [
    {
     "data": {
      "text/plain": [
       "0.7895445938997423"
      ]
     },
     "execution_count": 45,
     "metadata": {},
     "output_type": "execute_result"
    }
   ],
   "source": [
    "square_score = square.score(X_test_lin,y_test)\n",
    "square_score"
   ]
  },
  {
   "cell_type": "code",
   "execution_count": 46,
   "metadata": {},
   "outputs": [
    {
     "data": {
      "text/plain": [
       "-570605.8161979582"
      ]
     },
     "execution_count": 46,
     "metadata": {},
     "output_type": "execute_result"
    }
   ],
   "source": [
    "#checking coefficients\n",
    "square.intercept_"
   ]
  },
  {
   "cell_type": "code",
   "execution_count": 47,
   "metadata": {},
   "outputs": [
    {
     "data": {
      "text/plain": [
       "LotArea              1.056821\n",
       "OverallQual      26225.355736\n",
       "OverallCond       2058.691159\n",
       "YearBuilt          204.568570\n",
       "GarageArea          71.758909\n",
       "MiscVal              0.867624\n",
       "OpenPorchSF         56.142118\n",
       "EnclosedPorch       24.095527\n",
       "3SsnPorch           -2.020348\n",
       "ScreenPorch         86.308000\n",
       "PoolArea           109.809396\n",
       "LotFrontage         80.841785\n",
       "Street           46959.980307\n",
       "LotShape         -7282.648451\n",
       "Utilities        76855.459593\n",
       "LandSlope        -6195.920567\n",
       "KitchenQual      19033.625725\n",
       "PavedDrive        1870.616380\n",
       "CentralAir       -3554.809849\n",
       "PoolQC          -41820.649007\n",
       "dtype: float64"
      ]
     },
     "execution_count": 47,
     "metadata": {},
     "output_type": "execute_result"
    }
   ],
   "source": [
    "#coefficients of the model\n",
    "pd.Series(square.coef_, X_train_lin.columns)"
   ]
  },
  {
   "cell_type": "code",
   "execution_count": 48,
   "metadata": {},
   "outputs": [
    {
     "data": {
      "text/plain": [
       "<matplotlib.axes._subplots.AxesSubplot at 0x27daf7bebe0>"
      ]
     },
     "execution_count": 48,
     "metadata": {},
     "output_type": "execute_result"
    },
    {
     "data": {
      "image/png": "[encoded data removed]",
      "text/plain": [
       "<Figure size 432x288 with 1 Axes>"
      ]
     },
     "metadata": {
      "needs_background": "light"
     },
     "output_type": "display_data"
    }
   ],
   "source": [
    "#creating a graph with residual values\n",
    "prediction = square.predict(X = X_test_lin)\n",
    "compare = pd.DataFrame({'prediction': prediction, 'true': y_test, 'diff': (y_test - prediction)})\n",
    "compare.plot.scatter( x = 'true', y = 'diff')"
   ]
  },
  {
   "cell_type": "markdown",
   "metadata": {},
   "source": [
    "# Ridge Regression"
   ]
  },
  {
   "cell_type": "code",
   "execution_count": 49,
   "metadata": {},
   "outputs": [
    {
     "data": {
      "text/plain": [
       "Ridge(alpha=1, copy_X=True, fit_intercept=True, max_iter=None, normalize=True,\n",
       "   random_state=1, solver='auto', tol=0.001)"
      ]
     },
     "execution_count": 49,
     "metadata": {},
     "output_type": "execute_result"
    }
   ],
   "source": [
    "#Linear Regression using Ridge Method\n",
    "ridge = Ridge(fit_intercept=True, random_state=1, alpha=1, normalize=True)\n",
    "ridge.fit(X_train_lin,y_train)"
   ]
  },
  {
   "cell_type": "code",
   "execution_count": 50,
   "metadata": {},
   "outputs": [
    {
     "data": {
      "text/plain": [
       "0.7237476247802168"
      ]
     },
     "execution_count": 50,
     "metadata": {},
     "output_type": "execute_result"
    }
   ],
   "source": [
    "ridge_score = ridge.score(X = X_test_lin, y = y_test)\n",
    "ridge_score"
   ]
  },
  {
   "cell_type": "code",
   "execution_count": 51,
   "metadata": {},
   "outputs": [
    {
     "data": {
      "text/plain": [
       "-512824.80133683444"
      ]
     },
     "execution_count": 51,
     "metadata": {},
     "output_type": "execute_result"
    }
   ],
   "source": [
    "ridge.intercept_"
   ]
  },
  {
   "cell_type": "code",
   "execution_count": 52,
   "metadata": {},
   "outputs": [
    {
     "data": {
      "text/plain": [
       "LotArea              0.623767\n",
       "OverallQual      13230.709915\n",
       "OverallCond        182.873691\n",
       "YearBuilt          250.946561\n",
       "GarageArea          54.760527\n",
       "MiscVal              0.291539\n",
       "OpenPorchSF         73.682942\n",
       "EnclosedPorch       -1.472365\n",
       "3SsnPorch            5.162104\n",
       "ScreenPorch         58.626560\n",
       "PoolArea            -4.100203\n",
       "LotFrontage         90.490968\n",
       "Street           27732.262031\n",
       "LotShape         -7447.175363\n",
       "Utilities        35000.257180\n",
       "LandSlope        -5874.976816\n",
       "KitchenQual      18125.183432\n",
       "PavedDrive        3757.014516\n",
       "CentralAir        8537.264793\n",
       "PoolQC           -5122.046899\n",
       "dtype: float64"
      ]
     },
     "execution_count": 52,
     "metadata": {},
     "output_type": "execute_result"
    }
   ],
   "source": [
    "#coefficients of the model\n",
    "pd.Series(ridge.coef_, X_train_lin.columns)"
   ]
  },
  {
   "cell_type": "markdown",
   "metadata": {},
   "source": [
    "## Lasso Regression"
   ]
  },
  {
   "cell_type": "code",
   "execution_count": 53,
   "metadata": {},
   "outputs": [
    {
     "data": {
      "text/plain": [
       "Lasso(alpha=4, copy_X=True, fit_intercept=True, max_iter=20000,\n",
       "   normalize=True, positive=False, precompute=False, random_state=1,\n",
       "   selection='cyclic', tol=0.0001, warm_start=False)"
      ]
     },
     "execution_count": 53,
     "metadata": {},
     "output_type": "execute_result"
    }
   ],
   "source": [
    "#Linear Regression using Lasso Method\n",
    "lasso = Lasso(fit_intercept=True, copy_X=True, random_state=1, max_iter=20000, alpha=4, normalize=True)\n",
    "lasso.fit(X=X_train_lin, y=y_train)"
   ]
  },
  {
   "cell_type": "code",
   "execution_count": 54,
   "metadata": {},
   "outputs": [
    {
     "data": {
      "text/plain": [
       "0.7899315142141495"
      ]
     },
     "execution_count": 54,
     "metadata": {},
     "output_type": "execute_result"
    }
   ],
   "source": [
    "lasso_score = lasso.score(X=X_test_lin, y=y_test)\n",
    "lasso_score"
   ]
  },
  {
   "cell_type": "code",
   "execution_count": 55,
   "metadata": {},
   "outputs": [
    {
     "data": {
      "text/plain": [
       "-532317.2486722034"
      ]
     },
     "execution_count": 55,
     "metadata": {},
     "output_type": "execute_result"
    }
   ],
   "source": [
    "lasso.intercept_"
   ]
  },
  {
   "cell_type": "code",
   "execution_count": 56,
   "metadata": {},
   "outputs": [
    {
     "data": {
      "text/plain": [
       "LotArea              1.049751\n",
       "OverallQual      26267.370741\n",
       "OverallCond       1775.407618\n",
       "YearBuilt          188.761198\n",
       "GarageArea          71.429731\n",
       "MiscVal              0.672140\n",
       "OpenPorchSF         54.719126\n",
       "EnclosedPorch       17.976136\n",
       "3SsnPorch           -0.000000\n",
       "ScreenPorch         84.204865\n",
       "PoolArea            77.988478\n",
       "LotFrontage         75.058146\n",
       "Street           44254.944915\n",
       "LotShape         -7138.866072\n",
       "Utilities        72199.484219\n",
       "LandSlope        -5681.262914\n",
       "KitchenQual      19130.229734\n",
       "PavedDrive        1573.814451\n",
       "CentralAir       -2069.797619\n",
       "PoolQC          -34615.591734\n",
       "dtype: float64"
      ]
     },
     "execution_count": 56,
     "metadata": {},
     "output_type": "execute_result"
    }
   ],
   "source": [
    "#coefficients of the model\n",
    "pd.Series(lasso.coef_, X_train_lin.columns)"
   ]
  },
  {
   "cell_type": "markdown",
   "metadata": {},
   "source": [
    "## DummyRegressor"
   ]
  },
  {
   "cell_type": "code",
   "execution_count": 57,
   "metadata": {},
   "outputs": [
    {
     "data": {
      "text/plain": [
       "DummyRegressor(constant=None, quantile=None, strategy='mean')"
      ]
     },
     "execution_count": 57,
     "metadata": {},
     "output_type": "execute_result"
    }
   ],
   "source": [
    "#comparing obtained scores with score from Dummy Regressor\n",
    "dummy = DummyRegressor(strategy='mean')\n",
    "dummy.fit(X=X_train, y=y_train)"
   ]
  },
  {
   "cell_type": "code",
   "execution_count": 58,
   "metadata": {},
   "outputs": [
    {
     "data": {
      "text/plain": [
       "-0.0027327000850954075"
      ]
     },
     "execution_count": 58,
     "metadata": {},
     "output_type": "execute_result"
    }
   ],
   "source": [
    "dummy.score(X = X_test, y=y_test)"
   ]
  },
  {
   "cell_type": "markdown",
   "metadata": {},
   "source": [
    "## Predictions for test data"
   ]
  },
  {
   "cell_type": "code",
   "execution_count": 59,
   "metadata": {},
   "outputs": [
    {
     "data": {
      "text/plain": [
       "bag       0.828691\n",
       "boost     0.815393\n",
       "grid      0.791196\n",
       "lasso     0.789932\n",
       "square    0.789545\n",
       "forest    0.758540\n",
       "ridge     0.723748\n",
       "tree      0.710436\n",
       "dtype: float64"
      ]
     },
     "execution_count": 59,
     "metadata": {},
     "output_type": "execute_result"
    }
   ],
   "source": [
    "#collecting scores of all created models\n",
    "scores = pd.Series({'tree': tree_score,\n",
    "'grid': grid_score,\n",
    "'forest': forest_score,\n",
    "'square': square_score,\n",
    "'lasso': lasso_score,\n",
    "'ridge': ridge_score,\n",
    "'bag': bag_score,\n",
    "'boost': boost_score})\n",
    "scores.sort_values(ascending = False)"
   ]
  },
  {
   "cell_type": "code",
   "execution_count": 60,
   "metadata": {},
   "outputs": [
    {
     "data": {
      "text/plain": [
       "'bag'"
      ]
     },
     "execution_count": 60,
     "metadata": {},
     "output_type": "execute_result"
    }
   ],
   "source": [
    "scores.idxmax()"
   ]
  },
  {
   "cell_type": "code",
   "execution_count": 61,
   "metadata": {},
   "outputs": [],
   "source": [
    "#creating file for submission using model with the best score\n",
    "predict = bag.predict(X = evaluate)"
   ]
  },
  {
   "cell_type": "code",
   "execution_count": 62,
   "metadata": {},
   "outputs": [],
   "source": [
    "results = pd.DataFrame({'Id': evaluate.index,\n",
    "                        'SalePrice': predict})"
   ]
  },
  {
   "cell_type": "code",
   "execution_count": 63,
   "metadata": {},
   "outputs": [],
   "source": [
    "results = results.set_index(keys = 'Id')"
   ]
  },
  {
   "cell_type": "code",
   "execution_count": 64,
   "metadata": {},
   "outputs": [],
   "source": [
    "results.to_csv('submission.csv')"
   ]
  }
 ],
 "metadata": {
  "kernelspec": {
   "display_name": "Python 3",
   "language": "python",
   "name": "python3"
  },
  "language_info": {
   "codemirror_mode": {
    "name": "ipython",
    "version": 3
   },
   "file_extension": ".py",
   "mimetype": "text/x-python",
   "name": "python",
   "nbconvert_exporter": "python",
   "pygments_lexer": "ipython3",
   "version": "3.7.1"
  }
 },
 "nbformat": 4,
 "nbformat_minor": 2
}
